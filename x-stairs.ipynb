{
 "cells": [
  {
   "cell_type": "code",
   "execution_count": 1,
   "metadata": {},
   "outputs": [],
   "source": [
    "import xarray as xr\n",
    "from collections import OrderedDict\n",
    "\n",
    "\n",
    "url = \"http://barataria.tamu.edu:8080/thredds/dodsC/NcML/txla_hindcast_agg\"\n",
    "ds = xr.open_dataset(url)\n",
    "# Turn on chunking to activate dask and parallelize read/write\n",
    "ds = ds.chunk({})"
   ]
  },
  {
   "cell_type": "code",
   "execution_count": 2,
   "metadata": {},
   "outputs": [],
   "source": [
    "def filter_by(self, **kwargs):\n",
    "    selection = []\n",
    "    for var_name, variable in self.variables.items():\n",
    "        has_value_flag = False\n",
    "        for attr_name, pattern in kwargs.items():\n",
    "            attr_value = variable.attrs.get(attr_name)\n",
    "            if ((callable(pattern) and pattern(attr_value))\n",
    "                    or attr_value == pattern):\n",
    "                has_value_flag = True\n",
    "            else:\n",
    "                has_value_flag = False\n",
    "                break\n",
    "        if has_value_flag is True:\n",
    "            selection.append(var_name)\n",
    "    return self[selection]"
   ]
  },
  {
   "cell_type": "code",
   "execution_count": 3,
   "metadata": {},
   "outputs": [],
   "source": [
    "def get_formula_terms(var):\n",
    "    formula_terms = OrderedDict()\n",
    "    var = var.attrs.get(\"formula_terms\")\n",
    "    terms = [x.strip(\":\") for x in var.split()]\n",
    "    for k, v in zip(terms[::2], terms[1::2]):\n",
    "        formula_terms.update({k: v})\n",
    "    return formula_terms"
   ]
  },
  {
   "cell_type": "code",
   "execution_count": 4,
   "metadata": {},
   "outputs": [],
   "source": [
    "def ocean_s_coordinate_g2(s, eta, depth, depth_c, c):\n",
    "    \"\"\"\n",
    "    Creates a dimensioned version of s-coordinate generic form 2.\n",
    "    z(n,k,j,i) = eta(n,j,i) + (eta(n,j,i) + depth(j,i)) * S(k,j,i)\n",
    "    where:\n",
    "        S(k,j,i) = (depth_c * s(k) + depth(j,i) * C(k)) /\n",
    "                    (depth_c + depth(j,i))\n",
    "    \"\"\"\n",
    "    S = (depth_c * s + depth * c) / (depth_c + depth)\n",
    "    return eta + (eta + depth) * S"
   ]
  },
  {
   "cell_type": "code",
   "execution_count": 5,
   "metadata": {},
   "outputs": [],
   "source": [
    "S = filter_by(ds, standard_name=\"ocean_s_coordinate_g2\")  # need to fix filter_by to find the coords\n",
    "S = S[\"s_rho\"]  # need to find this automagically\n",
    "\n",
    "map_s = get_formula_terms(S)"
   ]
  },
  {
   "cell_type": "code",
   "execution_count": 6,
   "metadata": {},
   "outputs": [],
   "source": [
    "my_map_s = {k.lower(): ds[map_s[k]] for k, v in map_s.items()}"
   ]
  },
  {
   "cell_type": "code",
   "execution_count": 7,
   "metadata": {},
   "outputs": [
    {
     "data": {
      "text/plain": [
       "<xarray.DataArray (ocean_time: 223487, eta_rho: 191, xi_rho: 671, s_rho: 30)>\n",
       "dask.array<shape=(223487, 191, 671, 30), dtype=float64, chunksize=(223487, 191, 671, 30)>\n",
       "Coordinates:\n",
       "    lon_rho     (eta_rho, xi_rho) float64 dask.array<shape=(191, 671), chunksize=(191, 671)>\n",
       "    lat_rho     (eta_rho, xi_rho) float64 dask.array<shape=(191, 671), chunksize=(191, 671)>\n",
       "  * ocean_time  (ocean_time) datetime64[ns] 1993-01-01T01:00:00 ... 2018-07-01\n",
       "  * s_rho       (s_rho) float64 -0.9833 -0.95 -0.9167 ... -0.05 -0.01667\n",
       "Dimensions without coordinates: eta_rho, xi_rho"
      ]
     },
     "execution_count": 7,
     "metadata": {},
     "output_type": "execute_result"
    }
   ],
   "source": [
    "z = ocean_s_coordinate_g2(**my_map_s)\n",
    "z"
   ]
  },
  {
   "cell_type": "code",
   "execution_count": null,
   "metadata": {},
   "outputs": [],
   "source": []
  }
 ],
 "metadata": {
  "kernelspec": {
   "display_name": "Oceanography",
   "language": "python",
   "name": "oceanography"
  },
  "language_info": {
   "codemirror_mode": {
    "name": "ipython",
    "version": 3
   },
   "file_extension": ".py",
   "mimetype": "text/x-python",
   "name": "python",
   "nbconvert_exporter": "python",
   "pygments_lexer": "ipython3",
   "version": "3.7.3"
  }
 },
 "nbformat": 4,
 "nbformat_minor": 2
}
